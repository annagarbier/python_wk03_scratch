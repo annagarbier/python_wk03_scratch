{
 "cells": [
  {
   "cell_type": "markdown",
   "metadata": {},
   "source": [
    "# Palindrome\n",
    "\n",
    "A palindrom is a word or phrase that is spelled the same forwards as backwards, like `wow`,  `racecar`, or `Was it a cat I saw?`\n",
    "\n",
    "We're going to create a function that takes one paramter (input text) and checks whether or not it's a palindrome.\n",
    "\n",
    "We'll use the following tools:\n",
    "\n",
    "1. "
   ]
  },
  {
   "cell_type": "code",
   "execution_count": 130,
   "metadata": {},
   "outputs": [],
   "source": [
    "# import regular expression library\n",
    "import re\n",
    "\n",
    "def normalize(txt):\n",
    "    \"\"\"Normalize text.\n",
    "    \n",
    "    Arguments:\n",
    "        txt (string)\n",
    "    Returns:\n",
    "        txt_norm (string)\n",
    "    \"\"\"\n",
    "    # lowercase all\n",
    "    txt_norm = txt.lower()\n",
    "    \n",
    "    # remove special characters \n",
    "    txt_norm = re.sub('[^\\w]', '', txt_norm)\n",
    "    \n",
    "    # return normalized txt\n",
    "    return txt_norm\n",
    "\n",
    "\n",
    "def isPalindrome(txt):\n",
    "    \"\"\"Check whether input text is a palindrome.\n",
    "    \n",
    "    Arguments:\n",
    "        txt (string)\n",
    "    Returns:\n",
    "        is_match (boolean)\n",
    "    \"\"\"\n",
    "    txt_norm = normalize(txt)\n",
    "    txt_norm_backwards = txt_norm[::-1]\n",
    "    \n",
    "    is_match = False\n",
    "    if txt_norm == txt_norm_backwards:\n",
    "        is_match = True\n",
    "    return is_match"
   ]
  },
  {
   "cell_type": "code",
   "execution_count": 131,
   "metadata": {},
   "outputs": [
    {
     "data": {
      "text/plain": [
       "True"
      ]
     },
     "execution_count": 131,
     "metadata": {},
     "output_type": "execute_result"
    }
   ],
   "source": [
    "isPalindrome('Was it a cat I saw!????')"
   ]
  },
  {
   "cell_type": "code",
   "execution_count": null,
   "metadata": {},
   "outputs": [],
   "source": []
  },
  {
   "cell_type": "code",
   "execution_count": null,
   "metadata": {},
   "outputs": [],
   "source": []
  }
 ],
 "metadata": {
  "kernelspec": {
   "display_name": "Python 3",
   "language": "python",
   "name": "python3"
  },
  "language_info": {
   "codemirror_mode": {
    "name": "ipython",
    "version": 3
   },
   "file_extension": ".py",
   "mimetype": "text/x-python",
   "name": "python",
   "nbconvert_exporter": "python",
   "pygments_lexer": "ipython3",
   "version": "3.7.6"
  }
 },
 "nbformat": 4,
 "nbformat_minor": 2
}
