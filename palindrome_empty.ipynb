{
 "cells": [
  {
   "cell_type": "markdown",
   "metadata": {},
   "source": [
    "# Palindrome\n",
    "\n",
    "A palindrom is a word or phrase that is spelled the same forwards as backwards, like `wow`,  `race car`, or `Was it a cat I saw?`\n",
    "\n",
    "We're going to create a function that checks whether or not a given phrase is a palindrome.\n",
    "\n",
    "Example:\n",
    "```\n",
    ">> isPalindrome('wow')\n",
    "-> True\n",
    "\n",
    ">> isPalindrome('wowza')\n",
    "-> False\n",
    "```"
   ]
  },
  {
   "cell_type": "code",
   "execution_count": null,
   "metadata": {},
   "outputs": [],
   "source": []
  }
 ],
 "metadata": {
  "kernelspec": {
   "display_name": "Python 3",
   "language": "python",
   "name": "python3"
  },
  "language_info": {
   "codemirror_mode": {
    "name": "ipython",
    "version": 3
   },
   "file_extension": ".py",
   "mimetype": "text/x-python",
   "name": "python",
   "nbconvert_exporter": "python",
   "pygments_lexer": "ipython3",
   "version": "3.7.6"
  }
 },
 "nbformat": 4,
 "nbformat_minor": 2
}
