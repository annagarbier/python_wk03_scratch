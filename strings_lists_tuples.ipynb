{
 "cells": [
  {
   "cell_type": "markdown",
   "metadata": {},
   "source": [
    "# Strings, lists, tuples"
   ]
  },
  {
   "cell_type": "markdown",
   "metadata": {},
   "source": [
    "## Strings\n",
    "\n",
    "A `string` is a sequence of characters.\n",
    "\n",
    "* [x] Create String\n",
    "* [x] Escape Sequencing\n",
    "* [x] Delete and updating Strings\n",
    "* [x] Accessing characters\n",
    "* [] Formatting Strings\n",
    "* [] Docstrings\n",
    "* [] String Functions & Methods (built -in)"
   ]
  },
  {
   "cell_type": "markdown",
   "metadata": {},
   "source": [
    "### Creating strings"
   ]
  },
  {
   "cell_type": "code",
   "execution_count": 14,
   "metadata": {},
   "outputs": [
    {
     "name": "stdout",
     "output_type": "stream",
     "text": [
      "Hello, world!\n",
      "Hello, world!\n"
     ]
    }
   ],
   "source": [
    "## Strings are data surrounded by single or double quotes\n",
    "## The following are equivalent:\n",
    "\n",
    "print('Hello, world!')\n",
    "print(\"Hello, world!\")"
   ]
  },
  {
   "cell_type": "code",
   "execution_count": 15,
   "metadata": {},
   "outputs": [
    {
     "name": "stdout",
     "output_type": "stream",
     "text": [
      "She was like, \"OMG what?!\"\n",
      "She was like, 'OMG what?!'\n",
      "==========================\n",
      "She was like, 'OMG what?!'\n",
      "She was like, \"OMG what?!\"\n"
     ]
    }
   ],
   "source": [
    "## To include quotation marks *inside* a string, \n",
    "## you have a few options:\n",
    "\n",
    "# 1. Use one type outside, and another type inside.\n",
    "print('She was like, \"OMG what?!\"')\n",
    "print(\"She was like, 'OMG what?!'\")\n",
    "\n",
    "print('==========================')\n",
    "\n",
    "# 2. Use *escape* characters so that the quotation mark\n",
    "# is interpreted as a *string literal*.\n",
    "print('She was like, \\'OMG what?!\\'')\n",
    "print(\"She was like, \\\"OMG what?!\\\"\")"
   ]
  },
  {
   "cell_type": "code",
   "execution_count": 17,
   "metadata": {},
   "outputs": [
    {
     "name": "stdout",
     "output_type": "stream",
     "text": [
      "I love trucks.\n"
     ]
    }
   ],
   "source": [
    "# Like other data types, strings can be stored\n",
    "# in a variable.\n",
    "\n",
    "my_string = 'I love trucks.'\n",
    "print(my_string)"
   ]
  },
  {
   "cell_type": "markdown",
   "metadata": {},
   "source": [
    "### Manipulating string variables"
   ]
  },
  {
   "cell_type": "code",
   "execution_count": 23,
   "metadata": {},
   "outputs": [
    {
     "name": "stdout",
     "output_type": "stream",
     "text": [
      "I love trucks.\n",
      "I love butterflies.\n"
     ]
    }
   ],
   "source": [
    "# Strings in Python are *immutable*, meaning the\n",
    "# data itself doesn't change.\n",
    "\n",
    "# But we can always redirect a variable to \n",
    "# point to a new string.\n",
    "\n",
    "my_string = 'I love trucks.'\n",
    "print(my_string)\n",
    "\n",
    "my_string = 'I love butterflies.'\n",
    "print(my_string)"
   ]
  },
  {
   "cell_type": "code",
   "execution_count": 24,
   "metadata": {},
   "outputs": [
    {
     "name": "stdout",
     "output_type": "stream",
     "text": [
      "I love butterflies and I love trucks.\n"
     ]
    }
   ],
   "source": [
    "# We can add strings\n",
    "\n",
    "my_string = 'I love butterflies ' + 'and I love trucks.'\n",
    "print(my_string)"
   ]
  },
  {
   "cell_type": "code",
   "execution_count": 30,
   "metadata": {},
   "outputs": [
    {
     "name": "stdout",
     "output_type": "stream",
     "text": [
      "I love butterflies. I love butterflies. I love butterflies. \n"
     ]
    }
   ],
   "source": [
    "# We can also multiply strings by an integer!\n",
    "# (MINI PROJECT IDEA? https://en.wikipedia.org/wiki/Reduplication)\n",
    "\n",
    "my_string = 'I love butterflies. ' * 3\n",
    "print(my_string)"
   ]
  },
  {
   "cell_type": "markdown",
   "metadata": {},
   "source": [
    "### Accessing characters"
   ]
  },
  {
   "cell_type": "code",
   "execution_count": 39,
   "metadata": {},
   "outputs": [
    {
     "name": "stdout",
     "output_type": "stream",
     "text": [
      "l\n"
     ]
    }
   ],
   "source": [
    "# Let's jump INTO the string data now.\n",
    "# We can access specific characters within a string\n",
    "# using an *index*.\n",
    "\n",
    "# As usual, indexing starts at 0:\n",
    "my_string = 'looong table'\n",
    "print(my_string[0])"
   ]
  },
  {
   "cell_type": "code",
   "execution_count": 40,
   "metadata": {},
   "outputs": [
    {
     "name": "stdout",
     "output_type": "stream",
     "text": [
      "e\n"
     ]
    }
   ],
   "source": [
    "# We can access the last character using\n",
    "# *negative indexing*\n",
    "\n",
    "my_string = 'looong table'\n",
    "print(my_string[-1])"
   ]
  },
  {
   "cell_type": "code",
   "execution_count": 6,
   "metadata": {},
   "outputs": [
    {
     "name": "stdout",
     "output_type": "stream",
     "text": [
      "table\n"
     ]
    }
   ],
   "source": [
    "# We can access a *range* of characters by \n",
    "# providing a start and end index.\n",
    "\n",
    "my_string = 'looong table'\n",
    "print(my_string[7:12])"
   ]
  },
  {
   "cell_type": "code",
   "execution_count": 7,
   "metadata": {},
   "outputs": [
    {
     "name": "stdout",
     "output_type": "stream",
     "text": [
      "looong\n",
      "table\n"
     ]
    }
   ],
   "source": [
    "# If either the start or end is left undefined,\n",
    "# python will assume the start or end.\n",
    "\n",
    "my_string = 'looong table'\n",
    "print(my_string[:6]) # assume [0:6]\n",
    "print(my_string[7:]) # assume [6:12]"
   ]
  },
  {
   "cell_type": "markdown",
   "metadata": {},
   "source": [
    "### Docstrings\n",
    "\n",
    "\"If you violate these conventions, the worst you'll get is some dirty looks.\""
   ]
  },
  {
   "cell_type": "code",
   "execution_count": 11,
   "metadata": {},
   "outputs": [
    {
     "name": "stdout",
     "output_type": "stream",
     "text": [
      "HELLO!!!!\n"
     ]
    }
   ],
   "source": [
    "# Docstrings are special strings, added to code for legibility.\n",
    "# It is convention to use them as the first statement in a\n",
    "# module, function, class, or method definition.\n",
    "\n",
    "# A one-line docstring example, in a function\n",
    "def yellHello():\n",
    "    \"\"\"Print 'hello' in all caps, with exclamation marks.\"\"\"\n",
    "    print('HELLO!!!!')\n",
    "\n",
    "yellHello()"
   ]
  },
  {
   "cell_type": "code",
   "execution_count": 18,
   "metadata": {},
   "outputs": [
    {
     "name": "stdout",
     "output_type": "stream",
     "text": [
      "garba\n"
     ]
    }
   ],
   "source": [
    "# A multi-line docstring example, in a function\n",
    "def createUserID(last, first):\n",
    "    \"\"\"\n",
    "    Given a full name, return a corresponding user ID. \n",
    "  \n",
    "    The user ID is a concatenation of the first\n",
    "    four letters of the last name followed by the\n",
    "    first letter of the first name.\n",
    "  \n",
    "    Parameters: \n",
    "    last (string): Last name\n",
    "    first (string): First name\n",
    "  \n",
    "    Returns: \n",
    "    string: User ID\n",
    "    \"\"\"\n",
    "    \n",
    "    return(last[0:4] + first[0])\n",
    "\n",
    "userID = createUserID('garbier', 'anna')\n",
    "print(userID)"
   ]
  },
  {
   "cell_type": "markdown",
   "metadata": {},
   "source": [
    "## Lists\n",
    "\n",
    "* Create List,\n",
    "* Check Size and adding/removing elements\n",
    "* Accessing elements\n",
    "* Slicing A list\n",
    "* List Functions & Methods (built-in)\n",
    "* List Comprehension?"
   ]
  },
  {
   "cell_type": "markdown",
   "metadata": {},
   "source": [
    "## Tuples\n",
    "\n",
    "* Understand Tuples vs List\n",
    "* Create Tuples\n",
    "* Accessing Tuples\n",
    "* Concatenation\n",
    "* Slicing and deleting\n",
    "* Tuple Functions (built in)"
   ]
  },
  {
   "cell_type": "code",
   "execution_count": null,
   "metadata": {},
   "outputs": [],
   "source": []
  },
  {
   "cell_type": "code",
   "execution_count": null,
   "metadata": {},
   "outputs": [],
   "source": []
  }
 ],
 "metadata": {
  "kernelspec": {
   "display_name": "Python 3",
   "language": "python",
   "name": "python3"
  },
  "language_info": {
   "codemirror_mode": {
    "name": "ipython",
    "version": 3
   },
   "file_extension": ".py",
   "mimetype": "text/x-python",
   "name": "python",
   "nbconvert_exporter": "python",
   "pygments_lexer": "ipython3",
   "version": "3.7.6"
  }
 },
 "nbformat": 4,
 "nbformat_minor": 2
}
