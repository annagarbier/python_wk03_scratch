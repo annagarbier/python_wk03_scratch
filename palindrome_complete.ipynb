{
 "cells": [
  {
   "cell_type": "markdown",
   "metadata": {},
   "source": [
    "# Palindrome\n",
    "\n",
    "A palindrom is a word or phrase that is spelled the same forwards as backwards, like `wow`,  `race car`, or `Was it a cat I saw?`\n",
    "\n",
    "We're going to create a function that takes one paramter (input text) and checks whether or not it's a palindrome.\n",
    "\n",
    "Example:\n",
    "```\n",
    ">> isPalindrome('wow')\n",
    "-> True\n",
    "\n",
    ">> isPalindrome('wowza)\n",
    "-> False\n",
    "```"
   ]
  },
  {
   "cell_type": "code",
   "execution_count": 162,
   "metadata": {},
   "outputs": [
    {
     "data": {
      "text/plain": [
       "True"
      ]
     },
     "execution_count": 162,
     "metadata": {},
     "output_type": "execute_result"
    }
   ],
   "source": [
    "def isPalindrome(txt, show_details = False):\n",
    "    \"\"\"Check whether input text is a palindrome.\n",
    "    \n",
    "    Arguments:\n",
    "        txt (string)\n",
    "    Returns:\n",
    "        is_match (boolean)\n",
    "    \"\"\"\n",
    "    # The two strings to compare.\n",
    "    txt_norm = normalize(txt)\n",
    "    txt_norm_backwards = txt_norm[::-1]\n",
    "    \n",
    "    # By default, assume the strings are not a match.\n",
    "    is_match = False\n",
    "    # If the comparison proves otherwise, then\n",
    "    # switch to True.\n",
    "    if txt_norm == txt_norm_backwards:\n",
    "        is_match = True\n",
    "    \n",
    "    # Conditionally print details.\n",
    "    if show_details:\n",
    "        print('Forwards:\\t', txt_norm)\n",
    "        print('Backwards:\\t', txt_norm_backwards)\n",
    "    \n",
    "    # \n",
    "    return is_match"
   ]
  },
  {
   "cell_type": "markdown",
   "metadata": {},
   "source": [
    "## Going further\n",
    "\n",
    "Read [2002: A Palindrome Story by Nick Montfort & William Gillespie](http://spinelessbooks.com/2002/palindrome/index.html).<br>\n",
    "\n",
    "- How might this be made?\n",
    "- What else could you imagine making with the code we've written here?"
   ]
  },
  {
   "cell_type": "code",
   "execution_count": null,
   "metadata": {},
   "outputs": [],
   "source": []
  }
 ],
 "metadata": {
  "kernelspec": {
   "display_name": "Python 3",
   "language": "python",
   "name": "python3"
  },
  "language_info": {
   "codemirror_mode": {
    "name": "ipython",
    "version": 3
   },
   "file_extension": ".py",
   "mimetype": "text/x-python",
   "name": "python",
   "nbconvert_exporter": "python",
   "pygments_lexer": "ipython3",
   "version": "3.7.6"
  }
 },
 "nbformat": 4,
 "nbformat_minor": 2
}
